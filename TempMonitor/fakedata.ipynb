{
 "cells": [
  {
   "cell_type": "code",
   "execution_count": 2,
   "id": "9d36e10b",
   "metadata": {},
   "outputs": [
    {
     "name": "stdout",
     "output_type": "stream",
     "text": [
      "Requirement already satisfied: bottleneck in /opt/homebrew/lib/python3.10/site-packages (1.3.8)\n",
      "Requirement already satisfied: numexpr in /opt/homebrew/lib/python3.10/site-packages (2.10.0)\n",
      "Requirement already satisfied: pandas in /opt/homebrew/lib/python3.10/site-packages (2.2.2)\n",
      "Requirement already satisfied: numpy in /opt/homebrew/lib/python3.10/site-packages (from bottleneck) (1.24.1)\n",
      "Requirement already satisfied: python-dateutil>=2.8.2 in /opt/homebrew/lib/python3.10/site-packages (from pandas) (2.9.0.post0)\n",
      "Requirement already satisfied: pytz>=2020.1 in /opt/homebrew/lib/python3.10/site-packages (from pandas) (2024.1)\n",
      "Requirement already satisfied: tzdata>=2022.7 in /opt/homebrew/lib/python3.10/site-packages (from pandas) (2024.1)\n",
      "Requirement already satisfied: six>=1.5 in /opt/homebrew/lib/python3.10/site-packages (from python-dateutil>=2.8.2->pandas) (1.16.0)\n"
     ]
    }
   ],
   "source": [
    "!pip install bottleneck numexpr pandas"
   ]
  },
  {
   "cell_type": "code",
   "execution_count": null,
   "id": "7f14c35c",
   "metadata": {},
   "outputs": [],
   "source": []
  },
  {
   "cell_type": "code",
   "execution_count": 3,
   "id": "074cdbf6",
   "metadata": {},
   "outputs": [
    {
     "name": "stdout",
     "output_type": "stream",
     "text": [
      "CSV file initialized at real_time_data.csv\n",
      "Stopped data generation.\n"
     ]
    }
   ],
   "source": [
    "import pandas as pd\n",
    "import time\n",
    "import random\n",
    "from datetime import datetime\n",
    "\n",
    "CSV_FILE_PATH = 'real_time_data.csv'\n",
    "\n",
    "def initialize_csv(file_path):\n",
    "    df = pd.DataFrame(columns=['Time', 'Temperature'])\n",
    "    df.to_csv(file_path, index=False)\n",
    "\n",
    "def append_new_data(file_path):\n",
    "    current_time = datetime.now().strftime('%Y-%m-%d %H:%M:%S')\n",
    "    temperature = round(random.uniform(26.0, 600.0), 2)\n",
    "    new_row = pd.DataFrame([[current_time, temperature]], columns=['Time', 'Temperature'])\n",
    "    new_row.to_csv(file_path, mode='a', header=False, index=False)\n",
    "    return current_time, temperature\n",
    "\n",
    "if __name__ == \"__main__\":\n",
    "    initialize_csv(CSV_FILE_PATH)\n",
    "    print(f\"CSV file initialized at {CSV_FILE_PATH}\")\n",
    "\n",
    "    try:\n",
    "        while True:\n",
    "            current_time, temperature = append_new_data(CSV_FILE_PATH)\n",
    "            #print(f\"Appended new data: {current_time}, {temperature}°C\")\n",
    "            time.sleep(10)\n",
    "    except KeyboardInterrupt:\n",
    "        print(\"Stopped data generation.\")\n",
    "\n"
   ]
  },
  {
   "cell_type": "code",
   "execution_count": 9,
   "id": "ab478078",
   "metadata": {},
   "outputs": [
    {
     "name": "stdout",
     "output_type": "stream",
     "text": [
      "CSV file initialized at realtimedata_test.csv\n",
      "stop\n"
     ]
    }
   ],
   "source": [
    "# multichannels\n",
    "\n",
    "import pandas as pd\n",
    "import time\n",
    "import random\n",
    "from datetime import datetime\n",
    "\n",
    "CSV_FILE_PATH = 'realtimedata_test.csv'\n",
    "\n",
    "def initialize_csv(file_path):\n",
    "    df = pd.DataFrame(columns=['Time', 'CH1','CH2','CH3','CH4','CH5','CH6','CH7'])\n",
    "    df.to_csv(file_path, index=False)\n",
    "\n",
    "def append_new_data(file_path):\n",
    "    current_time = datetime.now().strftime('%Y-%m-%d %H:%M:%S')\n",
    "    CH1 = round(random.uniform(50.0, 400.0), 2)\n",
    "    CH2 = round(random.uniform(50.0, 400.0), 2)\n",
    "    CH3 = round(random.uniform(50.0, 400.0), 2)\n",
    "    CH4 = round(random.uniform(50.0, 400.0), 2)\n",
    "    CH5 = round(random.uniform(50.0, 400.0), 2)\n",
    "    CH6 = round(random.uniform(50.0, 400.0), 2)\n",
    "    CH7 = round(random.uniform(50.0, 400.0), 2)\n",
    "    new_row = pd.DataFrame([[current_time, CH1,CH2,CH3,CH4,CH5,CH6,CH7]], columns=['Time', 'CH1','CH2','CH3','CH4','CH5','CH6','CH7'])\n",
    "    new_row.to_csv(file_path, mode='a', header=False, index=False)\n",
    "    return current_time, CH1, CH2,CH3,CH4,CH5,CH6,CH7\n",
    "\n",
    "if __name__ == \"__main__\":\n",
    "    initialize_csv(CSV_FILE_PATH)\n",
    "    print(f\"CSV file initialized at {CSV_FILE_PATH}\")\n",
    "    try:\n",
    "        while True:\n",
    "            current_time, CH1, CH2,CH3,CH4,CH5,CH6,CH7 = append_new_data(CSV_FILE_PATH)\n",
    "            time.sleep(1)\n",
    "    except KeyboardInterrupt:\n",
    "        print(\"stop\")\n",
    "\n"
   ]
  },
  {
   "cell_type": "code",
   "execution_count": null,
   "id": "cc3d046b",
   "metadata": {},
   "outputs": [],
   "source": []
  }
 ],
 "metadata": {
  "kernelspec": {
   "display_name": "Python 3 (ipykernel)",
   "language": "python",
   "name": "python3"
  },
  "language_info": {
   "codemirror_mode": {
    "name": "ipython",
    "version": 3
   },
   "file_extension": ".py",
   "mimetype": "text/x-python",
   "name": "python",
   "nbconvert_exporter": "python",
   "pygments_lexer": "ipython3",
   "version": "3.9.7"
  }
 },
 "nbformat": 4,
 "nbformat_minor": 5
}
