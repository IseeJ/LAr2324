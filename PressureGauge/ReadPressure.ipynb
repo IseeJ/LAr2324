{
 "cells": [
  {
   "cell_type": "code",
   "execution_count": 1,
   "id": "ed1101a1-7588-49b3-abd1-94cfa7e20473",
   "metadata": {},
   "outputs": [],
   "source": [
    "import Hornet\n",
    "import time\n",
    "from datetime import datetime as dt\n",
    "import csv"
   ]
  },
  {
   "cell_type": "code",
   "execution_count": 2,
   "id": "e41082a8-46f8-4271-83d6-edb3de7ba6ff",
   "metadata": {},
   "outputs": [
    {
     "name": "stdout",
     "output_type": "stream",
     "text": [
      "b'*01 0 IG OFF\\r'\n",
      "Turning on IG\n",
      "b'*01 1 IG ON \\r'\n",
      "b'*01 9.89E-05\\r'\n",
      "20240604T153610 0.000129\n",
      "20240604T153624 0.000129\n",
      "20240604T153637 0.000128\n",
      "Exiting, Saving to Pressurelog.csv\n"
     ]
    }
   ],
   "source": [
    "#log to csv\n",
    "filename = \"Pressure_log.csv\"\n",
    "with open(filename, 'a') as csvfile:\n",
    "    csvwriter = csv.writer(csvfile)\n",
    "    csvwriter.writerow(['Date','Timestamp','CGPressure(Torr)'])\n",
    "    try:\n",
    "        Hornet.IG_off()\n",
    "        time.sleep(10)\n",
    "        print(Hornet.IG_stat())\n",
    "        while Hornet.getConvectronP()>=5e-2:\n",
    "            now = dt.now()\n",
    "            csvwriter.writerow([now.strftime('%Y%m%d'),now.strftime('%H%M%S'), Hornet.getConvectronP()])\n",
    "            print([now.strftime('%Y%m%d'+'T'+'%H%M%S'), Hornet.getConvectronP()])\n",
    "        if Hornet.getConvectronP()<5e-2:\n",
    "            print(\"Turning on IG\")\n",
    "            Hornet.IG_on()\n",
    "            time.sleep(10)\n",
    "            print(Hornet.IG_stat())\n",
    "            print(Hornet.getIonEcurrent())\n",
    "            csvwriter.writerow(['Date','Timestamp','IGPressure(Torr)'])\n",
    "        while Hornet.getConvectronP()<5e-2:\n",
    "            now = dt.now()\n",
    "            csvwriter.writerow([now.strftime('%Y%m%d'),now.strftime('%H%M%S'), Hornet.getIonP()])\n",
    "            print(now.strftime('%Y%m%d'+'T'+'%H%M%S'), Hornet.getIonP())\n",
    "            time.sleep(10)\n",
    "        if Hornet.getConvectronP()>=5e-2:\n",
    "            Hornet.IG_off()\n",
    "            time.sleep(10)\n",
    "            print(Hornet.IG_stat())\n",
    "            \n",
    "    except KeyboardInterrupt:\n",
    "        exit()\n",
    "        print(\"Exiting, Saving to Pressure_log.csv\")"
   ]
  },
  {
   "cell_type": "code",
   "execution_count": 2,
   "id": "86eac540-94f0-463b-a251-08a0b33e7390",
   "metadata": {},
   "outputs": [
    {
     "name": "stdout",
     "output_type": "stream",
     "text": [
      "Timestamp CGPressure(Torr) IGPressure(Torr)\n",
      "20240604T113059 3.13 9990000000.0\n",
      "20240604T113102 3.13 9990000000.0\n",
      "20240604T113106 3.13 9990000000.0\n",
      "20240604T113109 3.13 9990000000.0\n",
      "20240604T113112 3.13 9990000000.0\n",
      "20240604T113116 3.13 9990000000.0\n",
      "20240604T113119 3.13 9990000000.0\n",
      "20240604T113122 3.13 9990000000.0\n",
      "20240604T113126 3.13 9990000000.0\n",
      "20240604T113129 3.13 9990000000.0\n",
      "20240604T113132 3.13 9990000000.0\n",
      "20240604T113135 3.13 9990000000.0\n",
      "20240604T113139 3.13 9990000000.0\n",
      "20240604T113142 3.12 9990000000.0\n",
      "20240604T113145 3.12 9990000000.0\n",
      "20240604T113149 3.12 9990000000.0\n",
      "20240604T113152 3.12 9990000000.0\n",
      "20240604T113155 3.12 9990000000.0\n",
      "Exiting\n"
     ]
    }
   ],
   "source": [
    "try:\n",
    "    print('Timestamp','CGPressure(Torr)','IGPressure(Torr)')\n",
    "    while True:\n",
    "        now = dt.now()\n",
    "        print(now.strftime('%Y%m%d'+'T'+'%H%M%S'),Hornet.getConvectronP(), Hornet.getIonP())\n",
    "        time.sleep(1)\n",
    "    \n",
    "except KeyboardInterrupt:\n",
    "    exit()\n",
    "    print(\"Exiting\")"
   ]
  },
  {
   "cell_type": "code",
   "execution_count": null,
   "id": "9f218315-6c1d-4012-aafc-f606f5140060",
   "metadata": {},
   "outputs": [],
   "source": []
  }
 ],
 "metadata": {
  "kernelspec": {
   "display_name": "Python 3 (ipykernel)",
   "language": "python",
   "name": "python3"
  },
  "language_info": {
   "codemirror_mode": {
    "name": "ipython",
    "version": 3
   },
   "file_extension": ".py",
   "mimetype": "text/x-python",
   "name": "python",
   "nbconvert_exporter": "python",
   "pygments_lexer": "ipython3",
   "version": "3.11.7"
  }
 },
 "nbformat": 4,
 "nbformat_minor": 5
}
